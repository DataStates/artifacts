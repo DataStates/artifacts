{
 "cells": [
  {
   "cell_type": "code",
   "execution_count": 1,
   "id": "5265d0ea",
   "metadata": {},
   "outputs": [],
   "source": [
    "import numpy as np\n",
    "import pandas as pd\n",
    "import matplotlib.pyplot as plt"
   ]
  },
  {
   "cell_type": "code",
   "execution_count": 65,
   "id": "6c2e4a68",
   "metadata": {},
   "outputs": [],
   "source": [
    "json_pwd_transfer = \"/Users/admin/experiments/nt3_s32_p64_1epoch_exptransfer_1gpu_out2/history\"\n",
    "nas_results_path_transfer=\"/Users/admin/experiments/nt3_s32_p64_1epoch_exptransfer_1gpu_out2/results.csv\"\n",
    "\n",
    "json_pwd_baseline = \"/Users/admin/experiments/nt3_s32_p64_1epoch_expbaseline_1gpu_out/history\"\n",
    "nas_results_path_baseline=\"/Users/admin/experiments/nt3_s32_p64_1epoch_expbaseline_1gpu_out/results.csv\"\n"
   ]
  },
  {
   "cell_type": "code",
   "execution_count": null,
   "id": "4fcf1235",
   "metadata": {},
   "outputs": [],
   "source": []
  },
  {
   "cell_type": "code",
   "execution_count": 47,
   "id": "a0191389",
   "metadata": {},
   "outputs": [
    {
     "name": "stdout",
     "output_type": "stream",
     "text": [
      "                      arch_seq    id  objective  elapsed_sec    duration\n",
      "0    [8, 15, 1, 0, 6, 2, 0, 7]     1   0.485714   199.113100  102.785173\n",
      "1    [2, 17, 1, 2, 4, 0, 0, 5]     2   0.514286   200.502437  104.174454\n",
      "2     [7, 3, 2, 0, 2, 2, 2, 1]     3   0.860714   201.835226  105.507200\n",
      "3     [3, 5, 0, 0, 6, 2, 1, 7]     4   0.850000   203.432779  107.104707\n",
      "4    [2, 16, 0, 2, 4, 2, 0, 2]     5   0.485714   204.729851  108.401739\n",
      "..                         ...   ...        ...          ...         ...\n",
      "995  [3, 25, 2, 0, 3, 0, 0, 7]   996   0.785714  1666.247322  380.901512\n",
      "996   [4, 0, 1, 2, 7, 0, 2, 3]   997   0.500000  1668.191306  381.187358\n",
      "997  [3, 25, 0, 1, 3, 0, 0, 7]   998   0.957143  1669.676278  381.112423\n",
      "998  [3, 25, 0, 1, 3, 0, 2, 7]   999   0.932143  1671.289965  381.350350\n",
      "999  [3, 25, 0, 1, 0, 0, 1, 7]  1000   0.514286  1672.838926  381.378950\n",
      "\n",
      "[1000 rows x 5 columns]\n",
      "                       arch_seq    id  objective  elapsed_sec    duration\n",
      "0     [8, 15, 1, 0, 6, 2, 0, 7]     1   0.514286   292.965963  103.004972\n",
      "1     [2, 17, 1, 2, 4, 0, 0, 5]     2   0.485714   294.463990  104.502943\n",
      "2      [7, 3, 2, 0, 2, 2, 2, 1]     3   0.885714   295.809165  105.848073\n",
      "3      [3, 5, 0, 0, 6, 2, 1, 7]     4   0.764286   297.288394  107.327258\n",
      "4     [2, 16, 0, 2, 4, 2, 0, 2]     5   0.485714   298.650323  108.689146\n",
      "..                          ...   ...        ...          ...         ...\n",
      "995   [9, 25, 0, 0, 1, 0, 0, 1]   996   0.982143  1922.122331  448.208458\n",
      "996   [9, 25, 0, 1, 3, 1, 1, 2]   997   0.932143  1923.832493  448.384449\n",
      "997   [9, 25, 0, 0, 1, 0, 2, 6]   998   0.971429  1925.596342  448.456840\n",
      "998  [19, 25, 0, 1, 3, 1, 2, 2]   999   0.903571  1927.061601  447.881491\n",
      "999    [9, 9, 0, 1, 3, 1, 2, 2]  1000   0.910714  1928.789482  448.085236\n",
      "\n",
      "[1000 rows x 5 columns]\n"
     ]
    }
   ],
   "source": [
    "df_baseline = pd.read_csv(nas_results_path_baseline)\n",
    "df_transfer = pd.read_csv(nas_results_path_transfer)\n",
    "\n",
    "print(df_baseline)\n",
    "print(df_transfer)"
   ]
  },
  {
   "cell_type": "code",
   "execution_count": 49,
   "id": "43fc92c6",
   "metadata": {},
   "outputs": [
    {
     "data": {
      "text/plain": [
       "<matplotlib.legend.Legend at 0x7f82509c9fd0>"
      ]
     },
     "execution_count": 49,
     "metadata": {},
     "output_type": "execute_result"
    },
    {
     "data": {
      "image/png": "[encoded data removed]",
      "text/plain": [
       "<Figure size 432x288 with 1 Axes>"
      ]
     },
     "metadata": {
      "needs_background": "light"
     },
     "output_type": "display_data"
    }
   ],
   "source": [
    "import math\n",
    "\n",
    "#groupyBy and subtract the first\n",
    "duration_quantized_baseline = df_baseline.elapsed_sec.apply( lambda x: 50*math.floor((x - 199)/50)) \n",
    "duration_quantized_transfer = df_transfer.elapsed_sec.apply( lambda x: 50*math.floor((x - 292.9)/50)) \n",
    "\n",
    "df_baseline['quantized_duration']  = duration_quantized_baseline \n",
    "df_transfer['quantized_duration']  = duration_quantized_transfer\n",
    "\n",
    "#TODO: highest \n",
    "result_baseline = df_baseline.groupby('quantized_duration').mean()\n",
    "result_transfer = df_transfer.groupby('quantized_duration').mean()\n",
    "\n",
    "\n",
    "\n",
    " \n",
    "\n",
    "plt.plot(result_baseline.index, result_baseline['objective'],  label='Baseline:Regevo' )\n",
    "plt.plot(result_transfer.index, result_transfer['objective'], label='Transfer: ExpiredEvolution' )\n",
    "plt.xlabel()\n",
    "plt.label()\n",
    "plt.legend()"
   ]
  },
  {
   "cell_type": "code",
   "execution_count": null,
   "id": "b160698c",
   "metadata": {},
   "outputs": [],
   "source": []
  },
  {
   "cell_type": "code",
   "execution_count": 1,
   "id": "f8bf7ae6",
   "metadata": {},
   "outputs": [],
   "source": []
  },
  {
   "cell_type": "code",
   "execution_count": 66,
   "id": "46fcfe78",
   "metadata": {},
   "outputs": [],
   "source": [
    "import json\n",
    "import os\n",
    "# assign directory\n",
    "directory = json_pwd_baseline\n",
    "\n",
    "# iterate over files in\n",
    "# that directory\n",
    "json_filepaths = []\n",
    "for filename in os.listdir(directory):\n",
    "    f = os.path.join(directory, filename)\n",
    "    # checking if it is a file\n",
    "    if os.path.isfile(f):\n",
    "        json_filepaths.append(f)\n",
    "\n",
    "training_times = []\n",
    "storing_times = []\n",
    "num_layers_transferred = []\n",
    "for json_file in json_filepaths:\n",
    "    f = open (json_file, \"r\")\n",
    "    data = json.loads(f.read())\n",
    "    training_times.append(data['training_time'])\n",
    "    storing_times.append(data['storing_time'])\n",
    "    num_layers_transferred.append(data['num_layers_transferred'])\n",
    "    \n",
    "mean_training_time_baseline = np.mean(training_times)   \n",
    "mean_storing_time_baseline = np.mean(storing_times) \n",
    "mean_layer_transferred_baseline = np.mean(num_layers_transferred)"
   ]
  },
  {
   "cell_type": "code",
   "execution_count": 67,
   "id": "bb7b6487",
   "metadata": {},
   "outputs": [],
   "source": [
    "import json\n",
    "import os\n",
    "# assign directory\n",
    "directory = json_pwd_transfer\n",
    "\n",
    "# iterate over files in\n",
    "# that directory\n",
    "json_filepaths = []\n",
    "for filename in os.listdir(directory):\n",
    "    f = os.path.join(directory, filename)\n",
    "    # checking if it is a file\n",
    "    if os.path.isfile(f):\n",
    "        json_filepaths.append(f)\n",
    "\n",
    "training_times = []\n",
    "storing_times = []\n",
    "num_layers_transferred = []\n",
    "for json_file in json_filepaths:\n",
    "    f = open (json_file, \"r\")\n",
    "    data = json.loads(f.read())\n",
    "    training_times.append(data['training_time'])\n",
    "    storing_times.append(data['storing_time'])\n",
    "    num_layers_transferred.append(data['num_layers_transferred'])\n",
    "    \n",
    "mean_training_time_transfer = np.mean(training_times)   \n",
    "mean_storing_time_transfer = np.mean(storing_times) \n",
    "mean_layer_transferred_transfer = np.mean(num_layers_transferred)"
   ]
  },
  {
   "cell_type": "code",
   "execution_count": 68,
   "id": "ba2a167c",
   "metadata": {},
   "outputs": [
    {
     "data": {
      "text/plain": [
       "Text(0, 0.5, 'training time ')"
      ]
     },
     "execution_count": 68,
     "metadata": {},
     "output_type": "execute_result"
    },
    {
     "data": {
      "image/png": "[encoded data removed]",
      "text/plain": [
       "<Figure size 432x288 with 1 Axes>"
      ]
     },
     "metadata": {
      "needs_background": "light"
     },
     "output_type": "display_data"
    }
   ],
   "source": [
    "x = ['baseline', 'expiring evolution with transfer']\n",
    "plt.bar(x, [mean_training_time_transfer,mean_training_time_baseline] )\n",
    "plt.xlabel('Method')\n",
    "plt.ylabel('training time ')"
   ]
  },
  {
   "cell_type": "code",
   "execution_count": 69,
   "id": "32378abf",
   "metadata": {},
   "outputs": [
    {
     "data": {
      "text/plain": [
       "Text(0, 0.5, 'storing time ')"
      ]
     },
     "execution_count": 69,
     "metadata": {},
     "output_type": "execute_result"
    },
    {
     "data": {
      "image/png": "[encoded data removed]",
      "text/plain": [
       "<Figure size 432x288 with 1 Axes>"
      ]
     },
     "metadata": {
      "needs_background": "light"
     },
     "output_type": "display_data"
    }
   ],
   "source": [
    "plt.bar(x, [mean_storing_time_transfer,mean_storing_time_baseline] )\n",
    "plt.xlabel('Method')\n",
    "plt.ylabel('storing time ')"
   ]
  },
  {
   "cell_type": "code",
   "execution_count": 83,
   "id": "5be9a02f",
   "metadata": {},
   "outputs": [
    {
     "data": {
      "text/plain": [
       "([<matplotlib.axis.XTick at 0x7f82524ce5b0>,\n",
       "  <matplotlib.axis.XTick at 0x7f82524ce5e0>,\n",
       "  <matplotlib.axis.XTick at 0x7f82524cc400>,\n",
       "  <matplotlib.axis.XTick at 0x7f82524ef130>,\n",
       "  <matplotlib.axis.XTick at 0x7f82524ef880>,\n",
       "  <matplotlib.axis.XTick at 0x7f82525500a0>,\n",
       "  <matplotlib.axis.XTick at 0x7f82524efc70>,\n",
       "  <matplotlib.axis.XTick at 0x7f8252550640>,\n",
       "  <matplotlib.axis.XTick at 0x7f8252550d90>],\n",
       " [Text(0, 0, ''),\n",
       "  Text(0, 0, ''),\n",
       "  Text(0, 0, ''),\n",
       "  Text(0, 0, ''),\n",
       "  Text(0, 0, ''),\n",
       "  Text(0, 0, ''),\n",
       "  Text(0, 0, ''),\n",
       "  Text(0, 0, ''),\n",
       "  Text(0, 0, '')])"
      ]
     },
     "execution_count": 83,
     "metadata": {},
     "output_type": "execute_result"
    },
    {
     "data": {
      "image/png": "[encoded data removed]",
      "text/plain": [
       "<Figure size 432x288 with 1 Axes>"
      ]
     },
     "metadata": {
      "needs_background": "light"
     },
     "output_type": "display_data"
    }
   ],
   "source": [
    "num_layers_transferred.sort()\n",
    "num_layers_transferred\n",
    "plt.hist(num_layers_transferred)\n",
    "plt.xticks(range(0,9))\n",
    "\n",
    "#1) potentiaally not correctfully parameterizing our transfer - not transf\n",
    "#2) not properly accountign for 300 - some reason we are not transferring\n",
    "#3) random seed - print which index we select when we do the mutation. Consistently a high number index"
   ]
  },
  {
   "cell_type": "code",
   "execution_count": null,
   "id": "95c78ae3",
   "metadata": {},
   "outputs": [],
   "source": [
    "average checkpoint size: 30MB\n",
    "checkpoint size of all checkpoints 31G\n",
    "\n",
    "#training time should decrease as we get to larger models. Not obvious when that will happen\n",
    "\n",
    "#what's going on with 300\n",
    "#right skewed histogram"
   ]
  }
 ],
 "metadata": {
  "kernelspec": {
   "display_name": "Python 3 (ipykernel)",
   "language": "python",
   "name": "python3"
  },
  "language_info": {
   "codemirror_mode": {
    "name": "ipython",
    "version": 3
   },
   "file_extension": ".py",
   "mimetype": "text/x-python",
   "name": "python",
   "nbconvert_exporter": "python",
   "pygments_lexer": "ipython3",
   "version": "3.9.7"
  }
 },
 "nbformat": 4,
 "nbformat_minor": 5
}
