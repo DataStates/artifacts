{
 "cells": [
  {
   "cell_type": "code",
   "execution_count": 3,
   "id": "5265d0ea",
   "metadata": {},
   "outputs": [],
   "source": [
    "import numpy as np\n",
    "import pandas as pd\n",
    "import matplotlib.pyplot as plt"
   ]
  },
  {
   "cell_type": "code",
   "execution_count": 4,
   "id": "6c2e4a68",
   "metadata": {},
   "outputs": [],
   "source": [
    "json_pwd = \"/Users/admin/experiments/synthetic/seed2/save/history\"\n",
    "\n",
    "nas_results_path=\"/Users/admin/experiments/synthetic/seed2/results.csv\"\n"
   ]
  },
  {
   "cell_type": "code",
   "execution_count": 5,
   "id": "4fcf1235",
   "metadata": {},
   "outputs": [
    {
     "data": {
      "text/html": [
       "<div>\n",
       "<style scoped>\n",
       "    .dataframe tbody tr th:only-of-type {\n",
       "        vertical-align: middle;\n",
       "    }\n",
       "\n",
       "    .dataframe tbody tr th {\n",
       "        vertical-align: top;\n",
       "    }\n",
       "\n",
       "    .dataframe thead th {\n",
       "        text-align: right;\n",
       "    }\n",
       "</style>\n",
       "<table border=\"1\" class=\"dataframe\">\n",
       "  <thead>\n",
       "    <tr style=\"text-align: right;\">\n",
       "      <th></th>\n",
       "      <th>arch_seq</th>\n",
       "      <th>id</th>\n",
       "      <th>objective</th>\n",
       "      <th>elapsed_sec</th>\n",
       "      <th>duration</th>\n",
       "    </tr>\n",
       "  </thead>\n",
       "  <tbody>\n",
       "    <tr>\n",
       "      <th>0</th>\n",
       "      <td>[3, 0, 1, 0, 4, 3, 1, 3, 0, 0]</td>\n",
       "      <td>12</td>\n",
       "      <td>-0.011410</td>\n",
       "      <td>33.101382</td>\n",
       "      <td>26.773960</td>\n",
       "    </tr>\n",
       "    <tr>\n",
       "      <th>1</th>\n",
       "      <td>[0, 0, 3, 3, 0, 0, 2, 3, 1, 2]</td>\n",
       "      <td>9</td>\n",
       "      <td>0.999663</td>\n",
       "      <td>33.462220</td>\n",
       "      <td>27.134938</td>\n",
       "    </tr>\n",
       "    <tr>\n",
       "      <th>2</th>\n",
       "      <td>[3, 0, 2, 2, 0, 4, 2, 0, 2, 4]</td>\n",
       "      <td>6</td>\n",
       "      <td>0.999636</td>\n",
       "      <td>33.498771</td>\n",
       "      <td>27.171628</td>\n",
       "    </tr>\n",
       "    <tr>\n",
       "      <th>3</th>\n",
       "      <td>[0, 0, 3, 2, 3, 0, 2, 1, 3, 2]</td>\n",
       "      <td>1</td>\n",
       "      <td>-0.015276</td>\n",
       "      <td>33.502893</td>\n",
       "      <td>27.176005</td>\n",
       "    </tr>\n",
       "    <tr>\n",
       "      <th>4</th>\n",
       "      <td>[4, 2, 4, 2, 1, 0, 2, 2, 1, 0]</td>\n",
       "      <td>4</td>\n",
       "      <td>-0.010475</td>\n",
       "      <td>33.670559</td>\n",
       "      <td>27.343510</td>\n",
       "    </tr>\n",
       "    <tr>\n",
       "      <th>5</th>\n",
       "      <td>[1, 0, 2, 1, 1, 1, 4, 2, 3, 0]</td>\n",
       "      <td>5</td>\n",
       "      <td>-0.010475</td>\n",
       "      <td>33.674266</td>\n",
       "      <td>27.347170</td>\n",
       "    </tr>\n",
       "    <tr>\n",
       "      <th>6</th>\n",
       "      <td>[1, 3, 0, 2, 1, 4, 0, 1, 1, 1]</td>\n",
       "      <td>7</td>\n",
       "      <td>-0.010475</td>\n",
       "      <td>33.777184</td>\n",
       "      <td>27.449995</td>\n",
       "    </tr>\n",
       "    <tr>\n",
       "      <th>7</th>\n",
       "      <td>[2, 4, 3, 0, 4, 3, 1, 2, 0, 4]</td>\n",
       "      <td>3</td>\n",
       "      <td>0.979588</td>\n",
       "      <td>33.997579</td>\n",
       "      <td>27.670578</td>\n",
       "    </tr>\n",
       "    <tr>\n",
       "      <th>8</th>\n",
       "      <td>[2, 4, 2, 3, 4, 2, 0, 2, 3, 3]</td>\n",
       "      <td>8</td>\n",
       "      <td>-0.012540</td>\n",
       "      <td>34.058481</td>\n",
       "      <td>27.731246</td>\n",
       "    </tr>\n",
       "    <tr>\n",
       "      <th>9</th>\n",
       "      <td>[2, 4, 4, 3, 2, 1, 1, 1, 2, 1]</td>\n",
       "      <td>11</td>\n",
       "      <td>-0.014397</td>\n",
       "      <td>34.314291</td>\n",
       "      <td>27.986917</td>\n",
       "    </tr>\n",
       "    <tr>\n",
       "      <th>10</th>\n",
       "      <td>[4, 4, 4, 3, 4, 2, 3, 3, 2, 1]</td>\n",
       "      <td>2</td>\n",
       "      <td>-0.014397</td>\n",
       "      <td>34.447716</td>\n",
       "      <td>28.120766</td>\n",
       "    </tr>\n",
       "    <tr>\n",
       "      <th>11</th>\n",
       "      <td>[3, 4, 3, 3, 1, 4, 2, 3, 0, 0]</td>\n",
       "      <td>10</td>\n",
       "      <td>-0.010475</td>\n",
       "      <td>39.929343</td>\n",
       "      <td>33.602015</td>\n",
       "    </tr>\n",
       "    <tr>\n",
       "      <th>12</th>\n",
       "      <td>[1, 1, 2, 0, 2, 0, 4, 3, 1, 0]</td>\n",
       "      <td>15</td>\n",
       "      <td>-0.015276</td>\n",
       "      <td>52.205297</td>\n",
       "      <td>18.705334</td>\n",
       "    </tr>\n",
       "    <tr>\n",
       "      <th>13</th>\n",
       "      <td>[1, 4, 2, 0, 3, 3, 2, 4, 0, 3]</td>\n",
       "      <td>16</td>\n",
       "      <td>-0.010475</td>\n",
       "      <td>52.443800</td>\n",
       "      <td>18.939889</td>\n",
       "    </tr>\n",
       "    <tr>\n",
       "      <th>14</th>\n",
       "      <td>[3, 2, 2, 2, 1, 3, 4, 3, 1, 0]</td>\n",
       "      <td>13</td>\n",
       "      <td>-0.012540</td>\n",
       "      <td>52.554532</td>\n",
       "      <td>19.450794</td>\n",
       "    </tr>\n",
       "    <tr>\n",
       "      <th>15</th>\n",
       "      <td>[0, 0, 4, 1, 3, 3, 3, 3, 2, 2]</td>\n",
       "      <td>17</td>\n",
       "      <td>-0.010475</td>\n",
       "      <td>52.589283</td>\n",
       "      <td>18.917717</td>\n",
       "    </tr>\n",
       "    <tr>\n",
       "      <th>16</th>\n",
       "      <td>[0, 0, 3, 1, 1, 1, 4, 1, 0, 3]</td>\n",
       "      <td>20</td>\n",
       "      <td>-0.015276</td>\n",
       "      <td>52.639428</td>\n",
       "      <td>18.640680</td>\n",
       "    </tr>\n",
       "    <tr>\n",
       "      <th>17</th>\n",
       "      <td>[4, 4, 1, 4, 0, 4, 0, 2, 3, 1]</td>\n",
       "      <td>18</td>\n",
       "      <td>-0.010475</td>\n",
       "      <td>52.767009</td>\n",
       "      <td>19.091781</td>\n",
       "    </tr>\n",
       "    <tr>\n",
       "      <th>18</th>\n",
       "      <td>[4, 2, 0, 1, 0, 1, 2, 4, 4, 2]</td>\n",
       "      <td>19</td>\n",
       "      <td>-0.010475</td>\n",
       "      <td>53.069256</td>\n",
       "      <td>19.291069</td>\n",
       "    </tr>\n",
       "    <tr>\n",
       "      <th>19</th>\n",
       "      <td>[4, 4, 2, 2, 4, 3, 4, 1, 3, 4]</td>\n",
       "      <td>21</td>\n",
       "      <td>-0.014397</td>\n",
       "      <td>53.561632</td>\n",
       "      <td>19.502063</td>\n",
       "    </tr>\n",
       "    <tr>\n",
       "      <th>20</th>\n",
       "      <td>[4, 1, 2, 4, 3, 3, 2, 2, 2, 1]</td>\n",
       "      <td>22</td>\n",
       "      <td>-0.014397</td>\n",
       "      <td>53.875542</td>\n",
       "      <td>19.560055</td>\n",
       "    </tr>\n",
       "    <tr>\n",
       "      <th>21</th>\n",
       "      <td>[3, 0, 3, 1, 3, 3, 0, 1, 4, 2]</td>\n",
       "      <td>14</td>\n",
       "      <td>-0.010475</td>\n",
       "      <td>57.922515</td>\n",
       "      <td>24.459226</td>\n",
       "    </tr>\n",
       "    <tr>\n",
       "      <th>22</th>\n",
       "      <td>[2, 3, 1, 0, 4, 3, 2, 2, 0, 3]</td>\n",
       "      <td>23</td>\n",
       "      <td>-0.010890</td>\n",
       "      <td>58.943530</td>\n",
       "      <td>24.494799</td>\n",
       "    </tr>\n",
       "  </tbody>\n",
       "</table>\n",
       "</div>"
      ],
      "text/plain": [
       "                          arch_seq  id  objective  elapsed_sec   duration\n",
       "0   [3, 0, 1, 0, 4, 3, 1, 3, 0, 0]  12  -0.011410    33.101382  26.773960\n",
       "1   [0, 0, 3, 3, 0, 0, 2, 3, 1, 2]   9   0.999663    33.462220  27.134938\n",
       "2   [3, 0, 2, 2, 0, 4, 2, 0, 2, 4]   6   0.999636    33.498771  27.171628\n",
       "3   [0, 0, 3, 2, 3, 0, 2, 1, 3, 2]   1  -0.015276    33.502893  27.176005\n",
       "4   [4, 2, 4, 2, 1, 0, 2, 2, 1, 0]   4  -0.010475    33.670559  27.343510\n",
       "5   [1, 0, 2, 1, 1, 1, 4, 2, 3, 0]   5  -0.010475    33.674266  27.347170\n",
       "6   [1, 3, 0, 2, 1, 4, 0, 1, 1, 1]   7  -0.010475    33.777184  27.449995\n",
       "7   [2, 4, 3, 0, 4, 3, 1, 2, 0, 4]   3   0.979588    33.997579  27.670578\n",
       "8   [2, 4, 2, 3, 4, 2, 0, 2, 3, 3]   8  -0.012540    34.058481  27.731246\n",
       "9   [2, 4, 4, 3, 2, 1, 1, 1, 2, 1]  11  -0.014397    34.314291  27.986917\n",
       "10  [4, 4, 4, 3, 4, 2, 3, 3, 2, 1]   2  -0.014397    34.447716  28.120766\n",
       "11  [3, 4, 3, 3, 1, 4, 2, 3, 0, 0]  10  -0.010475    39.929343  33.602015\n",
       "12  [1, 1, 2, 0, 2, 0, 4, 3, 1, 0]  15  -0.015276    52.205297  18.705334\n",
       "13  [1, 4, 2, 0, 3, 3, 2, 4, 0, 3]  16  -0.010475    52.443800  18.939889\n",
       "14  [3, 2, 2, 2, 1, 3, 4, 3, 1, 0]  13  -0.012540    52.554532  19.450794\n",
       "15  [0, 0, 4, 1, 3, 3, 3, 3, 2, 2]  17  -0.010475    52.589283  18.917717\n",
       "16  [0, 0, 3, 1, 1, 1, 4, 1, 0, 3]  20  -0.015276    52.639428  18.640680\n",
       "17  [4, 4, 1, 4, 0, 4, 0, 2, 3, 1]  18  -0.010475    52.767009  19.091781\n",
       "18  [4, 2, 0, 1, 0, 1, 2, 4, 4, 2]  19  -0.010475    53.069256  19.291069\n",
       "19  [4, 4, 2, 2, 4, 3, 4, 1, 3, 4]  21  -0.014397    53.561632  19.502063\n",
       "20  [4, 1, 2, 4, 3, 3, 2, 2, 2, 1]  22  -0.014397    53.875542  19.560055\n",
       "21  [3, 0, 3, 1, 3, 3, 0, 1, 4, 2]  14  -0.010475    57.922515  24.459226\n",
       "22  [2, 3, 1, 0, 4, 3, 2, 2, 0, 3]  23  -0.010890    58.943530  24.494799"
      ]
     },
     "execution_count": 5,
     "metadata": {},
     "output_type": "execute_result"
    }
   ],
   "source": [
    "df = pd.read_csv(nas_results_path)\n",
    "df"
   ]
  },
  {
   "cell_type": "code",
   "execution_count": 33,
   "id": "a0191389",
   "metadata": {},
   "outputs": [
    {
     "data": {
      "text/plain": [
       "0     0.998928\n",
       "1    -0.016884\n",
       "2     0.998774\n",
       "3    -0.017188\n",
       "4     0.999330\n",
       "5    -0.026325\n",
       "6    -0.026325\n",
       "7    -0.026325\n",
       "8    -0.026325\n",
       "9    -0.015154\n",
       "10   -0.015678\n",
       "11   -0.015678\n",
       "12   -0.016884\n",
       "13   -0.026325\n",
       "14   -0.016884\n",
       "15   -0.026325\n",
       "16   -0.026325\n",
       "17   -0.026325\n",
       "18   -0.026325\n",
       "19   -0.015154\n",
       "20   -0.011744\n",
       "21   -0.015678\n",
       "22   -0.016884\n",
       "23   -0.015678\n",
       "24   -0.015154\n",
       "25   -0.026325\n",
       "26   -0.017188\n",
       "27   -0.026325\n",
       "28   -0.015678\n",
       "29   -0.015678\n",
       "Name: objective, dtype: float64"
      ]
     },
     "execution_count": 33,
     "metadata": {},
     "output_type": "execute_result"
    }
   ],
   "source": [
    "score_list = df.objective\n",
    "score_list"
   ]
  },
  {
   "cell_type": "code",
   "execution_count": 34,
   "id": "43fc92c6",
   "metadata": {},
   "outputs": [
    {
     "data": {
      "text/plain": [
       "0     40\n",
       "1     40\n",
       "2     40\n",
       "3     40\n",
       "4     45\n",
       "5     45\n",
       "6     45\n",
       "7     45\n",
       "8     45\n",
       "9     55\n",
       "10    60\n",
       "11    60\n",
       "12    30\n",
       "13    40\n",
       "14    35\n",
       "15    40\n",
       "16    40\n",
       "17    40\n",
       "18    40\n",
       "19    55\n",
       "20    40\n",
       "21    75\n",
       "22    55\n",
       "23    80\n",
       "24    75\n",
       "25    70\n",
       "26    55\n",
       "27    55\n",
       "28    80\n",
       "29    80\n",
       "Name: duration, dtype: int64"
      ]
     },
     "execution_count": 34,
     "metadata": {},
     "output_type": "execute_result"
    }
   ],
   "source": [
    "import math\n",
    "\n",
    "duration_quantized = df.duration.apply( lambda x: 5*math.floor(x/5)) \n",
    "duration_quantized "
   ]
  },
  {
   "cell_type": "code",
   "execution_count": 35,
   "id": "b160698c",
   "metadata": {},
   "outputs": [
    {
     "data": {
      "text/plain": [
       "[<matplotlib.lines.Line2D at 0x7f7feb8e71f0>]"
      ]
     },
     "execution_count": 35,
     "metadata": {},
     "output_type": "execute_result"
    },
    {
     "data": {
      "image/png": "[encoded data removed]",
      "text/plain": [
       "<Figure size 432x288 with 1 Axes>"
      ]
     },
     "metadata": {
      "needs_background": "light"
     },
     "output_type": "display_data"
    }
   ],
   "source": [
    "plt.plot(duration_quantized, obj_list)\n"
   ]
  },
  {
   "cell_type": "code",
   "execution_count": 1,
   "id": "f8bf7ae6",
   "metadata": {},
   "outputs": [],
   "source": [
    "import json"
   ]
  },
  {
   "cell_type": "code",
   "execution_count": 13,
   "id": "46fcfe78",
   "metadata": {},
   "outputs": [],
   "source": [
    "import os\n",
    "# assign directory\n",
    "directory = json_pwd\n",
    "\n",
    "# iterate over files in\n",
    "# that directory\n",
    "json_filepaths = []\n",
    "for filename in os.listdir(directory):\n",
    "    f = os.path.join(directory, filename)\n",
    "    # checking if it is a file\n",
    "    if os.path.isfile(f):\n",
    "        json_filepaths.append(f)\n",
    "\n",
    "training_times = []\n",
    "storing_times = []\n",
    "num_layers_transferred = []\n",
    "for json_file in json_filepaths:\n",
    "    f = open (json_file, \"r\")\n",
    "    data = json.loads(f.read())\n",
    "    training_times.append(data['training_time'])\n",
    "    storing_times.append(data['storing_time'])\n",
    "    num_layers_transferred.append(data['num_layers_transferred'])\n",
    "    "
   ]
  },
  {
   "cell_type": "code",
   "execution_count": 15,
   "id": "bb7b6487",
   "metadata": {},
   "outputs": [
    {
     "data": {
      "text/plain": [
       "Text(0, 0.5, 'frequency')"
      ]
     },
     "execution_count": 15,
     "metadata": {},
     "output_type": "execute_result"
    },
    {
     "data": {
      "image/png": "[encoded data removed]",
      "text/plain": [
       "<Figure size 432x288 with 1 Axes>"
      ]
     },
     "metadata": {
      "needs_background": "light"
     },
     "output_type": "display_data"
    }
   ],
   "source": [
    "plt.hist(training_times)\n",
    "plt.xlabel('training time (seconds)')\n",
    "plt.ylabel('frequency')"
   ]
  },
  {
   "cell_type": "code",
   "execution_count": 18,
   "id": "ba2a167c",
   "metadata": {},
   "outputs": [
    {
     "data": {
      "text/plain": [
       "Text(0, 0.5, 'frequency')"
      ]
     },
     "execution_count": 18,
     "metadata": {},
     "output_type": "execute_result"
    },
    {
     "data": {
      "image/png": "[encoded data removed]",
      "text/plain": [
       "<Figure size 432x288 with 1 Axes>"
      ]
     },
     "metadata": {
      "needs_background": "light"
     },
     "output_type": "display_data"
    }
   ],
   "source": [
    "storing_times_ms = [1000*i for i in storing_times]\n",
    "plt.hist(storing_times_ms)\n",
    "plt.xlabel('storing time (milliseconds)')\n",
    "plt.ylabel('frequency')"
   ]
  },
  {
   "cell_type": "code",
   "execution_count": 21,
   "id": "32378abf",
   "metadata": {},
   "outputs": [
    {
     "data": {
      "text/plain": [
       "Text(0, 0.5, 'Frequency')"
      ]
     },
     "execution_count": 21,
     "metadata": {},
     "output_type": "execute_result"
    },
    {
     "data": {
      "image/png": "[encoded data removed]",
      "text/plain": [
       "<Figure size 432x288 with 1 Axes>"
      ]
     },
     "metadata": {
      "needs_background": "light"
     },
     "output_type": "display_data"
    }
   ],
   "source": [
    "num_layers_transferred\n",
    "plt.hist(num_layers_transferred)\n",
    "plt.xlabel(\"Number of layers transferred\")\n",
    "plt.ylabel(\"Frequency\")\n",
    "#NOTE: ALL ZERO!!"
   ]
  },
  {
   "cell_type": "code",
   "execution_count": null,
   "id": "5be9a02f",
   "metadata": {},
   "outputs": [],
   "source": []
  }
 ],
 "metadata": {
  "kernelspec": {
   "display_name": "Python 3 (ipykernel)",
   "language": "python",
   "name": "python3"
  },
  "language_info": {
   "codemirror_mode": {
    "name": "ipython",
    "version": 3
   },
   "file_extension": ".py",
   "mimetype": "text/x-python",
   "name": "python",
   "nbconvert_exporter": "python",
   "pygments_lexer": "ipython3",
   "version": "3.9.7"
  }
 },
 "nbformat": 4,
 "nbformat_minor": 5
}
